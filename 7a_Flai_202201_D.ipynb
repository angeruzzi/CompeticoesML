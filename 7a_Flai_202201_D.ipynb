{
  "cells": [
    {
      "cell_type": "markdown",
      "metadata": {
        "id": "view-in-github",
        "colab_type": "text"
      },
      "source": [
        "<a href=\"https://colab.research.google.com/github/angeruzzi/CompeticoesML/blob/main/7a_Flai_202201_D.ipynb\" target=\"_parent\"><img src=\"https://colab.research.google.com/assets/colab-badge.svg\" alt=\"Open In Colab\"/></a>"
      ]
    },
    {
      "cell_type": "markdown",
      "metadata": {
        "id": "DMm2rtxKV_db"
      },
      "source": [
        "#Bibliotecas e Fonte"
      ]
    },
    {
      "cell_type": "code",
      "execution_count": null,
      "metadata": {
        "id": "P8Dej0wkVi-x"
      },
      "outputs": [],
      "source": [
        "import numpy as np\n",
        "import pandas as pd\n",
        "\n",
        "import matplotlib.pyplot as plt\n",
        "import seaborn as sns\n",
        "\n",
        "from sklearn.linear_model import LinearRegression\n",
        "from sklearn.linear_model import Ridge\n",
        "from sklearn.linear_model import LassoLars\n",
        "from sklearn.linear_model import BayesianRidge\n",
        "from sklearn.neighbors import KNeighborsRegressor\n",
        "from sklearn.tree import DecisionTreeRegressor\n",
        "from sklearn.ensemble import RandomForestRegressor\n",
        "from sklearn.ensemble import GradientBoostingRegressor\n",
        "from lightgbm import LGBMRegressor\n",
        "from sklearn.svm import LinearSVR\n",
        "\n",
        "from sklearn.preprocessing import StandardScaler\n",
        "from sklearn.preprocessing import QuantileTransformer\n",
        "from sklearn.preprocessing import Normalizer\n",
        "\n",
        "import sklearn.metrics as me\n",
        "from sklearn.model_selection import train_test_split\n",
        "from sklearn.model_selection import cross_validate\n",
        "from sklearn.model_selection import RepeatedKFold\n",
        "from sklearn.model_selection import GridSearchCV\n",
        "\n",
        "import warnings\n",
        "warnings.filterwarnings('ignore')"
      ]
    },
    {
      "cell_type": "code",
      "execution_count": null,
      "metadata": {
        "id": "qTkE1LBAWnES"
      },
      "outputs": [],
      "source": [
        "#Base de Dados\n",
        "fonte_treino = 'https://raw.githubusercontent.com/angeruzzi/Datasource/main/DesafioDDS202202_treino.csv'\n",
        "fonte_teste = 'https://raw.githubusercontent.com/angeruzzi/Datasource/main/DesafioDDS202202_teste.csv'\n",
        "orig   = pd.read_csv(fonte_treino) \n",
        "teste  = pd.read_csv(fonte_teste) "
      ]
    },
    {
      "cell_type": "markdown",
      "metadata": {
        "id": "kBS3Ixl-hJIk"
      },
      "source": [
        "#Funções"
      ]
    },
    {
      "cell_type": "code",
      "execution_count": null,
      "metadata": {
        "id": "uR8ukRxUc8_R"
      },
      "outputs": [],
      "source": [
        "                     # MLPRegressor(hidden_layer_sizes = (5,5), \n",
        "                     #     learning_rate='adaptive',\n",
        "                     #     learning_rate_init=0.05,\n",
        "                     #     solver='lbfgs',\n",
        "                     #     random_state=1,\n",
        "                     #     max_iter=2000),\n",
        "                     # Lasso(),\n",
        "                      \n",
        "lista_de_modelos = [\n",
        "                      #LinearRegression(),\n",
        "                      #KNeighborsRegressor(),\n",
        "                      #DecisionTreeRegressor(),\n",
        "                      #RandomForestRegressor(),\n",
        "                      #Ridge(),\n",
        "                      #LassoLars(),\n",
        "                      #BayesianRidge(),\n",
        "                      #GradientBoostingRegressor(),\n",
        "                      LGBMRegressor(),\n",
        "                      LinearSVR()\n",
        "                  ]\n",
        "\n",
        "nome_dos_modelos = [\n",
        "                      #'LinearReg', \n",
        "                      #'Knn',\n",
        "                      #'DTree',                    \n",
        "                      #'NNmlp',\n",
        "                      #'RanFor',\n",
        "                      #'Ridge',\n",
        "                      #'Lasso',\n",
        "                      #'LassoLars',\n",
        "                      #'BayesianRidge',\n",
        "                      #'GradBoost',\n",
        "                      'LGBM',\n",
        "                      'LSVR'\n",
        "                    ]"
      ]
    },
    {
      "cell_type": "code",
      "execution_count": null,
      "metadata": {
        "id": "ZA8YUTuRhj3y"
      },
      "outputs": [],
      "source": [
        "#Teste de Modelos\n",
        "def CompareML_kfold(treinoX, treinoy, lista_de_modelos, nome_dos_modelos, validacao):  \n",
        "  lista_medidas = ['r2','neg_mean_squared_error', 'neg_mean_absolute_error']\n",
        "  nome_medidas = ['R2','EQM','EMA']\n",
        "\n",
        "  resultados0 = {}\n",
        "  \n",
        "  for i in range(len(lista_de_modelos)):\n",
        "    modelo = lista_de_modelos[i]\n",
        "\n",
        "    testes = cross_validate(modelo, treinoX, treinoy, cv=validacao, scoring=lista_medidas)\n",
        "    \n",
        "    r2  = testes['test_r2'].mean()\n",
        "    eqm = testes['test_neg_mean_squared_error'].mean()\n",
        "    ema = testes['test_neg_mean_absolute_error'].mean()\n",
        "\n",
        "    resultados0[nome_dos_modelos[i]] = [r2, eqm, ema]\n",
        "  resultados = pd.DataFrame(resultados0, index = nome_medidas).T\n",
        "\n",
        "  return resultados"
      ]
    },
    {
      "cell_type": "code",
      "execution_count": null,
      "metadata": {
        "id": "Q63cWySOhq3v"
      },
      "outputs": [],
      "source": [
        "#Tunagem de Hiperparâmetros \n",
        "def Tunagem(modelo, treino, targets, parametros, validacao, score):    \n",
        "    search = GridSearchCV(modelo, param_grid = parametros,\n",
        "                                  scoring = score, cv = validacao, \n",
        "                                  verbose = 1, n_jobs = -1)\n",
        "    search.fit(treino, targets) \n",
        "    bestModel = search.best_estimator_\n",
        "    bestScore = search.best_score_\n",
        "    bestParam = search.best_params_\n",
        "\n",
        "    return {\n",
        "            'bestModel': bestModel,\n",
        "            'bestScore': bestScore,\n",
        "            'bestParam': bestParam\n",
        "    }"
      ]
    },
    {
      "cell_type": "markdown",
      "metadata": {
        "id": "xNUCTtMNpsKA"
      },
      "source": [
        "#Teste 1"
      ]
    },
    {
      "cell_type": "code",
      "execution_count": null,
      "metadata": {
        "id": "PIf7tD-9pYhn"
      },
      "outputs": [],
      "source": [
        "def aux_cor_raca(x):\n",
        "    if x == 99:\n",
        "      return 9\n",
        "    else:\n",
        "      return x\n",
        "\n",
        "def aux_sexo(x):\n",
        "    if x == 2:\n",
        "      return 0\n",
        "    else:\n",
        "      return x"
      ]
    },
    {
      "cell_type": "code",
      "execution_count": null,
      "metadata": {
        "id": "dgNRna6BnULI"
      },
      "outputs": [],
      "source": [
        "treino1  = orig.copy()\n",
        "treino1  = treino1.loc[treino1['faixa_etaria']>1].copy()\n",
        "\n",
        "treino1X = treino1.drop(['remuneracao'], axis = 1) \n",
        "treino1y = treino1['remuneracao']\n",
        "\n",
        "#Remoção de Campos\n",
        "treino1X.drop(['id'], axis = 1, inplace = True) \n",
        "treino1X.drop(['idade'], axis = 1, inplace = True)\n",
        "\n",
        "#Tratamentos\n",
        "treino1X['cor_raca']  = treino1X['cor_raca'].apply(aux_cor_raca)\n",
        "treino1X['sexo']      = treino1X['sexo'].apply(aux_sexo)\n",
        "\n",
        "mediaTrabalho  = np.mean(treino1X['horas_trabalho_por_semana'])\n",
        "desvioTrabalho = np.std(treino1X['horas_trabalho_por_semana'])\n",
        "treino1X['horas_trabalho_por_semana'] = (treino1X['horas_trabalho_por_semana'] - mediaTrabalho)/desvioTrabalho\n",
        "\n",
        "mediaTamanho  = np.mean(treino1X['tamanho_da_empresa'])\n",
        "desvioTamanho = np.std(treino1X['tamanho_da_empresa'])\n",
        "treino1X['tamanho_da_empresa'] = (treino1X['tamanho_da_empresa'] - mediaTamanho)/desvioTamanho\n",
        "\n",
        "mediaTemprego  = np.mean(treino1X['tempo_no_emprego'])\n",
        "desvioTemprego = np.std(treino1X['tempo_no_emprego'])\n",
        "treino1X['tempo_no_emprego'] = (treino1X['tempo_no_emprego'] - mediaTemprego)/desvioTemprego\n",
        "\n",
        "\n",
        "##Dummyficação\n",
        "#variaveis_toDummie  = ['cor_raca'] #'faixa_etaria', \n",
        "#treino1X            = pd.get_dummies(treino1X, columns = variaveis_toDummie) #, drop_first = True"
      ]
    },
    {
      "cell_type": "code",
      "execution_count": null,
      "metadata": {
        "colab": {
          "base_uri": "https://localhost:8080/",
          "height": 206
        },
        "id": "C8zzr6Erpflh",
        "outputId": "b858f212-6a52-40a9-dbdd-2d764d5cbc8e"
      },
      "outputs": [
        {
          "data": {
            "text/html": [
              "\n",
              "  <div id=\"df-c37dc530-e9f7-42dd-9c3d-275ea14c40fb\">\n",
              "    <div class=\"colab-df-container\">\n",
              "      <div>\n",
              "<style scoped>\n",
              "    .dataframe tbody tr th:only-of-type {\n",
              "        vertical-align: middle;\n",
              "    }\n",
              "\n",
              "    .dataframe tbody tr th {\n",
              "        vertical-align: top;\n",
              "    }\n",
              "\n",
              "    .dataframe thead th {\n",
              "        text-align: right;\n",
              "    }\n",
              "</style>\n",
              "<table border=\"1\" class=\"dataframe\">\n",
              "  <thead>\n",
              "    <tr style=\"text-align: right;\">\n",
              "      <th></th>\n",
              "      <th>sexo</th>\n",
              "      <th>faixa_etaria</th>\n",
              "      <th>cor_raca</th>\n",
              "      <th>escolaridade</th>\n",
              "      <th>horas_trabalho_por_semana</th>\n",
              "      <th>portador_de_deficiencia</th>\n",
              "      <th>tamanho_da_empresa</th>\n",
              "      <th>tempo_no_emprego</th>\n",
              "    </tr>\n",
              "  </thead>\n",
              "  <tbody>\n",
              "    <tr>\n",
              "      <th>0</th>\n",
              "      <td>1</td>\n",
              "      <td>5</td>\n",
              "      <td>8</td>\n",
              "      <td>7</td>\n",
              "      <td>0.620498</td>\n",
              "      <td>0</td>\n",
              "      <td>1.069214</td>\n",
              "      <td>-0.788159</td>\n",
              "    </tr>\n",
              "    <tr>\n",
              "      <th>1</th>\n",
              "      <td>1</td>\n",
              "      <td>7</td>\n",
              "      <td>8</td>\n",
              "      <td>7</td>\n",
              "      <td>0.620498</td>\n",
              "      <td>0</td>\n",
              "      <td>-1.514034</td>\n",
              "      <td>-0.807016</td>\n",
              "    </tr>\n",
              "    <tr>\n",
              "      <th>2</th>\n",
              "      <td>0</td>\n",
              "      <td>7</td>\n",
              "      <td>9</td>\n",
              "      <td>7</td>\n",
              "      <td>-1.179347</td>\n",
              "      <td>0</td>\n",
              "      <td>-0.037893</td>\n",
              "      <td>1.713934</td>\n",
              "    </tr>\n",
              "    <tr>\n",
              "      <th>3</th>\n",
              "      <td>1</td>\n",
              "      <td>4</td>\n",
              "      <td>8</td>\n",
              "      <td>7</td>\n",
              "      <td>0.620498</td>\n",
              "      <td>0</td>\n",
              "      <td>0.331143</td>\n",
              "      <td>-0.821904</td>\n",
              "    </tr>\n",
              "    <tr>\n",
              "      <th>4</th>\n",
              "      <td>1</td>\n",
              "      <td>7</td>\n",
              "      <td>9</td>\n",
              "      <td>9</td>\n",
              "      <td>0.106256</td>\n",
              "      <td>0</td>\n",
              "      <td>1.069214</td>\n",
              "      <td>0.493159</td>\n",
              "    </tr>\n",
              "  </tbody>\n",
              "</table>\n",
              "</div>\n",
              "      <button class=\"colab-df-convert\" onclick=\"convertToInteractive('df-c37dc530-e9f7-42dd-9c3d-275ea14c40fb')\"\n",
              "              title=\"Convert this dataframe to an interactive table.\"\n",
              "              style=\"display:none;\">\n",
              "        \n",
              "  <svg xmlns=\"http://www.w3.org/2000/svg\" height=\"24px\"viewBox=\"0 0 24 24\"\n",
              "       width=\"24px\">\n",
              "    <path d=\"M0 0h24v24H0V0z\" fill=\"none\"/>\n",
              "    <path d=\"M18.56 5.44l.94 2.06.94-2.06 2.06-.94-2.06-.94-.94-2.06-.94 2.06-2.06.94zm-11 1L8.5 8.5l.94-2.06 2.06-.94-2.06-.94L8.5 2.5l-.94 2.06-2.06.94zm10 10l.94 2.06.94-2.06 2.06-.94-2.06-.94-.94-2.06-.94 2.06-2.06.94z\"/><path d=\"M17.41 7.96l-1.37-1.37c-.4-.4-.92-.59-1.43-.59-.52 0-1.04.2-1.43.59L10.3 9.45l-7.72 7.72c-.78.78-.78 2.05 0 2.83L4 21.41c.39.39.9.59 1.41.59.51 0 1.02-.2 1.41-.59l7.78-7.78 2.81-2.81c.8-.78.8-2.07 0-2.86zM5.41 20L4 18.59l7.72-7.72 1.47 1.35L5.41 20z\"/>\n",
              "  </svg>\n",
              "      </button>\n",
              "      \n",
              "  <style>\n",
              "    .colab-df-container {\n",
              "      display:flex;\n",
              "      flex-wrap:wrap;\n",
              "      gap: 12px;\n",
              "    }\n",
              "\n",
              "    .colab-df-convert {\n",
              "      background-color: #E8F0FE;\n",
              "      border: none;\n",
              "      border-radius: 50%;\n",
              "      cursor: pointer;\n",
              "      display: none;\n",
              "      fill: #1967D2;\n",
              "      height: 32px;\n",
              "      padding: 0 0 0 0;\n",
              "      width: 32px;\n",
              "    }\n",
              "\n",
              "    .colab-df-convert:hover {\n",
              "      background-color: #E2EBFA;\n",
              "      box-shadow: 0px 1px 2px rgba(60, 64, 67, 0.3), 0px 1px 3px 1px rgba(60, 64, 67, 0.15);\n",
              "      fill: #174EA6;\n",
              "    }\n",
              "\n",
              "    [theme=dark] .colab-df-convert {\n",
              "      background-color: #3B4455;\n",
              "      fill: #D2E3FC;\n",
              "    }\n",
              "\n",
              "    [theme=dark] .colab-df-convert:hover {\n",
              "      background-color: #434B5C;\n",
              "      box-shadow: 0px 1px 3px 1px rgba(0, 0, 0, 0.15);\n",
              "      filter: drop-shadow(0px 1px 2px rgba(0, 0, 0, 0.3));\n",
              "      fill: #FFFFFF;\n",
              "    }\n",
              "  </style>\n",
              "\n",
              "      <script>\n",
              "        const buttonEl =\n",
              "          document.querySelector('#df-c37dc530-e9f7-42dd-9c3d-275ea14c40fb button.colab-df-convert');\n",
              "        buttonEl.style.display =\n",
              "          google.colab.kernel.accessAllowed ? 'block' : 'none';\n",
              "\n",
              "        async function convertToInteractive(key) {\n",
              "          const element = document.querySelector('#df-c37dc530-e9f7-42dd-9c3d-275ea14c40fb');\n",
              "          const dataTable =\n",
              "            await google.colab.kernel.invokeFunction('convertToInteractive',\n",
              "                                                     [key], {});\n",
              "          if (!dataTable) return;\n",
              "\n",
              "          const docLinkHtml = 'Like what you see? Visit the ' +\n",
              "            '<a target=\"_blank\" href=https://colab.research.google.com/notebooks/data_table.ipynb>data table notebook</a>'\n",
              "            + ' to learn more about interactive tables.';\n",
              "          element.innerHTML = '';\n",
              "          dataTable['output_type'] = 'display_data';\n",
              "          await google.colab.output.renderOutput(dataTable, element);\n",
              "          const docLink = document.createElement('div');\n",
              "          docLink.innerHTML = docLinkHtml;\n",
              "          element.appendChild(docLink);\n",
              "        }\n",
              "      </script>\n",
              "    </div>\n",
              "  </div>\n",
              "  "
            ],
            "text/plain": [
              "   sexo  faixa_etaria  ...  tamanho_da_empresa  tempo_no_emprego\n",
              "0     1             5  ...            1.069214         -0.788159\n",
              "1     1             7  ...           -1.514034         -0.807016\n",
              "2     0             7  ...           -0.037893          1.713934\n",
              "3     1             4  ...            0.331143         -0.821904\n",
              "4     1             7  ...            1.069214          0.493159\n",
              "\n",
              "[5 rows x 8 columns]"
            ]
          },
          "execution_count": 9,
          "metadata": {},
          "output_type": "execute_result"
        }
      ],
      "source": [
        "treino1X.head()"
      ]
    },
    {
      "cell_type": "code",
      "execution_count": null,
      "metadata": {
        "colab": {
          "base_uri": "https://localhost:8080/",
          "height": 112
        },
        "id": "aE0sh6X8q7Pv",
        "outputId": "cc360210-e4d6-46bc-b5bb-1fdb4adecfec"
      },
      "outputs": [
        {
          "data": {
            "text/html": [
              "\n",
              "  <div id=\"df-a3b48382-c682-43bb-888a-e35f58e41e9a\">\n",
              "    <div class=\"colab-df-container\">\n",
              "      <div>\n",
              "<style scoped>\n",
              "    .dataframe tbody tr th:only-of-type {\n",
              "        vertical-align: middle;\n",
              "    }\n",
              "\n",
              "    .dataframe tbody tr th {\n",
              "        vertical-align: top;\n",
              "    }\n",
              "\n",
              "    .dataframe thead th {\n",
              "        text-align: right;\n",
              "    }\n",
              "</style>\n",
              "<table border=\"1\" class=\"dataframe\">\n",
              "  <thead>\n",
              "    <tr style=\"text-align: right;\">\n",
              "      <th></th>\n",
              "      <th>R2</th>\n",
              "      <th>EQM</th>\n",
              "      <th>EMA</th>\n",
              "    </tr>\n",
              "  </thead>\n",
              "  <tbody>\n",
              "    <tr>\n",
              "      <th>LGBM</th>\n",
              "      <td>0.383546</td>\n",
              "      <td>-8.817499e+06</td>\n",
              "      <td>-1400.993181</td>\n",
              "    </tr>\n",
              "    <tr>\n",
              "      <th>SVR</th>\n",
              "      <td>0.127742</td>\n",
              "      <td>-1.250377e+07</td>\n",
              "      <td>-1513.407688</td>\n",
              "    </tr>\n",
              "  </tbody>\n",
              "</table>\n",
              "</div>\n",
              "      <button class=\"colab-df-convert\" onclick=\"convertToInteractive('df-a3b48382-c682-43bb-888a-e35f58e41e9a')\"\n",
              "              title=\"Convert this dataframe to an interactive table.\"\n",
              "              style=\"display:none;\">\n",
              "        \n",
              "  <svg xmlns=\"http://www.w3.org/2000/svg\" height=\"24px\"viewBox=\"0 0 24 24\"\n",
              "       width=\"24px\">\n",
              "    <path d=\"M0 0h24v24H0V0z\" fill=\"none\"/>\n",
              "    <path d=\"M18.56 5.44l.94 2.06.94-2.06 2.06-.94-2.06-.94-.94-2.06-.94 2.06-2.06.94zm-11 1L8.5 8.5l.94-2.06 2.06-.94-2.06-.94L8.5 2.5l-.94 2.06-2.06.94zm10 10l.94 2.06.94-2.06 2.06-.94-2.06-.94-.94-2.06-.94 2.06-2.06.94z\"/><path d=\"M17.41 7.96l-1.37-1.37c-.4-.4-.92-.59-1.43-.59-.52 0-1.04.2-1.43.59L10.3 9.45l-7.72 7.72c-.78.78-.78 2.05 0 2.83L4 21.41c.39.39.9.59 1.41.59.51 0 1.02-.2 1.41-.59l7.78-7.78 2.81-2.81c.8-.78.8-2.07 0-2.86zM5.41 20L4 18.59l7.72-7.72 1.47 1.35L5.41 20z\"/>\n",
              "  </svg>\n",
              "      </button>\n",
              "      \n",
              "  <style>\n",
              "    .colab-df-container {\n",
              "      display:flex;\n",
              "      flex-wrap:wrap;\n",
              "      gap: 12px;\n",
              "    }\n",
              "\n",
              "    .colab-df-convert {\n",
              "      background-color: #E8F0FE;\n",
              "      border: none;\n",
              "      border-radius: 50%;\n",
              "      cursor: pointer;\n",
              "      display: none;\n",
              "      fill: #1967D2;\n",
              "      height: 32px;\n",
              "      padding: 0 0 0 0;\n",
              "      width: 32px;\n",
              "    }\n",
              "\n",
              "    .colab-df-convert:hover {\n",
              "      background-color: #E2EBFA;\n",
              "      box-shadow: 0px 1px 2px rgba(60, 64, 67, 0.3), 0px 1px 3px 1px rgba(60, 64, 67, 0.15);\n",
              "      fill: #174EA6;\n",
              "    }\n",
              "\n",
              "    [theme=dark] .colab-df-convert {\n",
              "      background-color: #3B4455;\n",
              "      fill: #D2E3FC;\n",
              "    }\n",
              "\n",
              "    [theme=dark] .colab-df-convert:hover {\n",
              "      background-color: #434B5C;\n",
              "      box-shadow: 0px 1px 3px 1px rgba(0, 0, 0, 0.15);\n",
              "      filter: drop-shadow(0px 1px 2px rgba(0, 0, 0, 0.3));\n",
              "      fill: #FFFFFF;\n",
              "    }\n",
              "  </style>\n",
              "\n",
              "      <script>\n",
              "        const buttonEl =\n",
              "          document.querySelector('#df-a3b48382-c682-43bb-888a-e35f58e41e9a button.colab-df-convert');\n",
              "        buttonEl.style.display =\n",
              "          google.colab.kernel.accessAllowed ? 'block' : 'none';\n",
              "\n",
              "        async function convertToInteractive(key) {\n",
              "          const element = document.querySelector('#df-a3b48382-c682-43bb-888a-e35f58e41e9a');\n",
              "          const dataTable =\n",
              "            await google.colab.kernel.invokeFunction('convertToInteractive',\n",
              "                                                     [key], {});\n",
              "          if (!dataTable) return;\n",
              "\n",
              "          const docLinkHtml = 'Like what you see? Visit the ' +\n",
              "            '<a target=\"_blank\" href=https://colab.research.google.com/notebooks/data_table.ipynb>data table notebook</a>'\n",
              "            + ' to learn more about interactive tables.';\n",
              "          element.innerHTML = '';\n",
              "          dataTable['output_type'] = 'display_data';\n",
              "          await google.colab.output.renderOutput(dataTable, element);\n",
              "          const docLink = document.createElement('div');\n",
              "          docLink.innerHTML = docLinkHtml;\n",
              "          element.appendChild(docLink);\n",
              "        }\n",
              "      </script>\n",
              "    </div>\n",
              "  </div>\n",
              "  "
            ],
            "text/plain": [
              "            R2           EQM          EMA\n",
              "LGBM  0.383546 -8.817499e+06 -1400.993181\n",
              "SVR   0.127742 -1.250377e+07 -1513.407688"
            ]
          },
          "execution_count": 35,
          "metadata": {},
          "output_type": "execute_result"
        }
      ],
      "source": [
        "validacao = RepeatedKFold(n_splits = 10, n_repeats = 10)\n",
        "resultados = CompareML_kfold(treino1X, treino1y, lista_de_modelos, nome_dos_modelos, validacao)\n",
        "resultados.sort_values(by = 'EMA', ascending = False)"
      ]
    },
    {
      "cell_type": "markdown",
      "metadata": {
        "id": "dmRkuWw1t2AE"
      },
      "source": [
        "#Teste 2"
      ]
    },
    {
      "cell_type": "code",
      "execution_count": 44,
      "metadata": {
        "id": "JaFGHPLdt3H5"
      },
      "outputs": [],
      "source": [
        "treino2  = orig.copy()\n",
        "treino2  = treino2.loc[treino2['faixa_etaria']>1].copy()\n",
        "\n",
        "treino2X = treino2.drop(['remuneracao'], axis = 1) \n",
        "treino2y = treino2['remuneracao']\n",
        "\n",
        "#Remoção de Campos\n",
        "treino2X.drop(['id'], axis = 1, inplace = True) \n",
        "treino2X.drop(['idade'], axis = 1, inplace = True)\n",
        "\n",
        "#Tratamentos\n",
        "treino2X['cor_raca']  = treino2X['cor_raca'].apply(aux_cor_raca)\n",
        "treino2X['sexo']  = treino2X['sexo'].apply(aux_sexo)\n",
        "\n",
        "mediaTrabalho  = np.mean(treino2X['horas_trabalho_por_semana'])\n",
        "desvioTrabalho = np.std(treino2X['horas_trabalho_por_semana'])\n",
        "treino2X['horas_trabalho_por_semana'] = (treino2X['horas_trabalho_por_semana'] - mediaTrabalho)/desvioTrabalho\n",
        "\n",
        "mediaTamanho  = np.mean(treino2X['tamanho_da_empresa'])\n",
        "desvioTamanho = np.std(treino2X['tamanho_da_empresa'])\n",
        "treino2X['tamanho_da_empresa'] = (treino2X['tamanho_da_empresa'] - mediaTamanho)/desvioTamanho\n",
        "\n",
        "mediaTemprego  = np.mean(treino2X['tempo_no_emprego'])\n",
        "desvioTemprego = np.std(treino2X['tempo_no_emprego'])\n",
        "treino2X['tempo_no_emprego'] = (treino2X['tempo_no_emprego'] - mediaTemprego)/desvioTemprego\n",
        "\n",
        "##Dummyficação\n",
        "variaveis_toDummie  = ['cor_raca'] #,  'escolaridade', 'faixa_etaria'\n",
        "treino2X            = pd.get_dummies(treino2X, columns = variaveis_toDummie) #, drop_first = True"
      ]
    },
    {
      "cell_type": "code",
      "execution_count": null,
      "metadata": {
        "id": "Uc1Gj_z6un_k"
      },
      "outputs": [],
      "source": [
        "treino2X.head()"
      ]
    },
    {
      "cell_type": "code",
      "execution_count": null,
      "metadata": {
        "colab": {
          "base_uri": "https://localhost:8080/",
          "height": 112
        },
        "id": "KdX_6RfJupea",
        "outputId": "a1a70b96-9ea0-4cc5-b967-24dca723b25f"
      },
      "outputs": [
        {
          "data": {
            "text/html": [
              "\n",
              "  <div id=\"df-39af6460-8799-4519-b53c-9cf0d23a4e12\">\n",
              "    <div class=\"colab-df-container\">\n",
              "      <div>\n",
              "<style scoped>\n",
              "    .dataframe tbody tr th:only-of-type {\n",
              "        vertical-align: middle;\n",
              "    }\n",
              "\n",
              "    .dataframe tbody tr th {\n",
              "        vertical-align: top;\n",
              "    }\n",
              "\n",
              "    .dataframe thead th {\n",
              "        text-align: right;\n",
              "    }\n",
              "</style>\n",
              "<table border=\"1\" class=\"dataframe\">\n",
              "  <thead>\n",
              "    <tr style=\"text-align: right;\">\n",
              "      <th></th>\n",
              "      <th>R2</th>\n",
              "      <th>EQM</th>\n",
              "      <th>EMA</th>\n",
              "    </tr>\n",
              "  </thead>\n",
              "  <tbody>\n",
              "    <tr>\n",
              "      <th>LGBM</th>\n",
              "      <td>0.388001</td>\n",
              "      <td>-8.764554e+06</td>\n",
              "      <td>-1399.612431</td>\n",
              "    </tr>\n",
              "    <tr>\n",
              "      <th>SVR</th>\n",
              "      <td>0.128146</td>\n",
              "      <td>-1.250262e+07</td>\n",
              "      <td>-1512.831724</td>\n",
              "    </tr>\n",
              "  </tbody>\n",
              "</table>\n",
              "</div>\n",
              "      <button class=\"colab-df-convert\" onclick=\"convertToInteractive('df-39af6460-8799-4519-b53c-9cf0d23a4e12')\"\n",
              "              title=\"Convert this dataframe to an interactive table.\"\n",
              "              style=\"display:none;\">\n",
              "        \n",
              "  <svg xmlns=\"http://www.w3.org/2000/svg\" height=\"24px\"viewBox=\"0 0 24 24\"\n",
              "       width=\"24px\">\n",
              "    <path d=\"M0 0h24v24H0V0z\" fill=\"none\"/>\n",
              "    <path d=\"M18.56 5.44l.94 2.06.94-2.06 2.06-.94-2.06-.94-.94-2.06-.94 2.06-2.06.94zm-11 1L8.5 8.5l.94-2.06 2.06-.94-2.06-.94L8.5 2.5l-.94 2.06-2.06.94zm10 10l.94 2.06.94-2.06 2.06-.94-2.06-.94-.94-2.06-.94 2.06-2.06.94z\"/><path d=\"M17.41 7.96l-1.37-1.37c-.4-.4-.92-.59-1.43-.59-.52 0-1.04.2-1.43.59L10.3 9.45l-7.72 7.72c-.78.78-.78 2.05 0 2.83L4 21.41c.39.39.9.59 1.41.59.51 0 1.02-.2 1.41-.59l7.78-7.78 2.81-2.81c.8-.78.8-2.07 0-2.86zM5.41 20L4 18.59l7.72-7.72 1.47 1.35L5.41 20z\"/>\n",
              "  </svg>\n",
              "      </button>\n",
              "      \n",
              "  <style>\n",
              "    .colab-df-container {\n",
              "      display:flex;\n",
              "      flex-wrap:wrap;\n",
              "      gap: 12px;\n",
              "    }\n",
              "\n",
              "    .colab-df-convert {\n",
              "      background-color: #E8F0FE;\n",
              "      border: none;\n",
              "      border-radius: 50%;\n",
              "      cursor: pointer;\n",
              "      display: none;\n",
              "      fill: #1967D2;\n",
              "      height: 32px;\n",
              "      padding: 0 0 0 0;\n",
              "      width: 32px;\n",
              "    }\n",
              "\n",
              "    .colab-df-convert:hover {\n",
              "      background-color: #E2EBFA;\n",
              "      box-shadow: 0px 1px 2px rgba(60, 64, 67, 0.3), 0px 1px 3px 1px rgba(60, 64, 67, 0.15);\n",
              "      fill: #174EA6;\n",
              "    }\n",
              "\n",
              "    [theme=dark] .colab-df-convert {\n",
              "      background-color: #3B4455;\n",
              "      fill: #D2E3FC;\n",
              "    }\n",
              "\n",
              "    [theme=dark] .colab-df-convert:hover {\n",
              "      background-color: #434B5C;\n",
              "      box-shadow: 0px 1px 3px 1px rgba(0, 0, 0, 0.15);\n",
              "      filter: drop-shadow(0px 1px 2px rgba(0, 0, 0, 0.3));\n",
              "      fill: #FFFFFF;\n",
              "    }\n",
              "  </style>\n",
              "\n",
              "      <script>\n",
              "        const buttonEl =\n",
              "          document.querySelector('#df-39af6460-8799-4519-b53c-9cf0d23a4e12 button.colab-df-convert');\n",
              "        buttonEl.style.display =\n",
              "          google.colab.kernel.accessAllowed ? 'block' : 'none';\n",
              "\n",
              "        async function convertToInteractive(key) {\n",
              "          const element = document.querySelector('#df-39af6460-8799-4519-b53c-9cf0d23a4e12');\n",
              "          const dataTable =\n",
              "            await google.colab.kernel.invokeFunction('convertToInteractive',\n",
              "                                                     [key], {});\n",
              "          if (!dataTable) return;\n",
              "\n",
              "          const docLinkHtml = 'Like what you see? Visit the ' +\n",
              "            '<a target=\"_blank\" href=https://colab.research.google.com/notebooks/data_table.ipynb>data table notebook</a>'\n",
              "            + ' to learn more about interactive tables.';\n",
              "          element.innerHTML = '';\n",
              "          dataTable['output_type'] = 'display_data';\n",
              "          await google.colab.output.renderOutput(dataTable, element);\n",
              "          const docLink = document.createElement('div');\n",
              "          docLink.innerHTML = docLinkHtml;\n",
              "          element.appendChild(docLink);\n",
              "        }\n",
              "      </script>\n",
              "    </div>\n",
              "  </div>\n",
              "  "
            ],
            "text/plain": [
              "            R2           EQM          EMA\n",
              "LGBM  0.388001 -8.764554e+06 -1399.612431\n",
              "SVR   0.128146 -1.250262e+07 -1512.831724"
            ]
          },
          "execution_count": 36,
          "metadata": {},
          "output_type": "execute_result"
        }
      ],
      "source": [
        "validacao = RepeatedKFold(n_splits = 10, n_repeats = 10)\n",
        "resultados = CompareML_kfold(treino2X, treino2y, lista_de_modelos, nome_dos_modelos, validacao)\n",
        "resultados.sort_values(by = 'EMA', ascending = False)"
      ]
    },
    {
      "cell_type": "markdown",
      "metadata": {
        "id": "gc_6iDIF-VNr"
      },
      "source": [
        "#Tunagem"
      ]
    },
    {
      "cell_type": "code",
      "execution_count": null,
      "metadata": {
        "id": "I6tTd_k24QEj"
      },
      "outputs": [],
      "source": [
        "validacao = RepeatedKFold(n_splits = 10, n_repeats = 10)\n",
        "\n",
        "testeTunModels = [LGBMRegressor()]\n",
        "testeTunParams = [\n",
        "                  {\n",
        "                   'min_samples_split': [2, 3],\n",
        "                   'min_samples_leaf': [1, 2],\n",
        "                   'max_depth' : [5, 6, 7, 8, 9, 10],\n",
        "                   'n_estimators': [50, 55, 60, 65, 70, 75],\n",
        "                   'learning_rate': np.arange(0.1, 0.5, 0.1)\n",
        "                  }\n",
        "]"
      ]
    },
    {
      "cell_type": "code",
      "execution_count": null,
      "metadata": {
        "colab": {
          "background_save": true,
          "base_uri": "https://localhost:8080/"
        },
        "id": "ONHcTcwN_h-4",
        "outputId": "a921de75-7ff6-40ff-c1b3-6f36102d38e3"
      },
      "outputs": [
        {
          "name": "stdout",
          "output_type": "stream",
          "text": [
            "Fitting 100 folds for each of 576 candidates, totalling 57600 fits\n",
            "{'bestModel': LGBMRegressor(max_depth=8, min_samples_leaf=1, min_samples_split=2,\n",
            "              n_estimators=65), 'bestScore': -1397.8355355052202, 'bestParam': {'learning_rate': 0.1, 'max_depth': 8, 'min_samples_leaf': 1, 'min_samples_split': 2, 'n_estimators': 65}}\n"
          ]
        }
      ],
      "source": [
        "dadosSelecX = treino2X\n",
        "dadosSelecy = treino2y\n",
        "\n",
        "for i in range(len(testeTunModels)):\n",
        "  ret = Tunagem(testeTunModels[i], dadosSelecX, dadosSelecy, testeTunParams[i], validacao, 'neg_mean_absolute_error')\n",
        "  print(ret)"
      ]
    },
    {
      "cell_type": "markdown",
      "metadata": {
        "id": "VSm457a7tODr"
      },
      "source": [
        "#Modelo Final e Submissão"
      ]
    },
    {
      "cell_type": "code",
      "execution_count": 45,
      "metadata": {
        "id": "POlJLbljt2IP"
      },
      "outputs": [],
      "source": [
        "fonte_saida = teste.copy()\n",
        "\n",
        "#Remoção de Campos\n",
        "fonte_saida.drop(['id'], axis = 1, inplace = True) \n",
        "fonte_saida.drop(['idade'], axis = 1, inplace = True)\n",
        "\n",
        "#Tratamentos\n",
        "fonte_saida['cor_raca']   = fonte_saida['cor_raca'].apply(aux_cor_raca)\n",
        "fonte_saida['sexo']       = fonte_saida['sexo'].apply(aux_sexo)\n",
        "\n",
        "#mediaTrabalho  = np.mean(fonte_saida['horas_trabalho_por_semana'])\n",
        "#desvioTrabalho = np.std(fonte_saida['horas_trabalho_por_semana'])\n",
        "fonte_saida['horas_trabalho_por_semana'] = (fonte_saida['horas_trabalho_por_semana'] - mediaTrabalho)/desvioTrabalho\n",
        "\n",
        "#mediaTamanho  = np.mean(fonte_saida['tamanho_da_empresa'])\n",
        "#desvioTamanho = np.std(fonte_saida['tamanho_da_empresa'])\n",
        "fonte_saida['tamanho_da_empresa'] = (fonte_saida['tamanho_da_empresa'] - mediaTamanho)/desvioTamanho\n",
        "\n",
        "#mediaTemprego  = np.mean(fonte_saida['tempo_no_emprego'])\n",
        "#desvioTemprego = np.std(fonte_saida['tempo_no_emprego'])\n",
        "fonte_saida['tempo_no_emprego'] = (fonte_saida['tempo_no_emprego'] - mediaTemprego)/desvioTemprego\n",
        "\n",
        "\n",
        "##Dummyficação\n",
        "variaveis_toDummie  = ['cor_raca'] \n",
        "fonte_saida         = pd.get_dummies(fonte_saida, columns = variaveis_toDummie) #, drop_first = True"
      ]
    },
    {
      "cell_type": "code",
      "execution_count": 46,
      "metadata": {
        "colab": {
          "base_uri": "https://localhost:8080/"
        },
        "id": "Q89AGzcYtY30",
        "outputId": "50cedacd-fb60-4234-af09-de33101c3c1c"
      },
      "outputs": [
        {
          "output_type": "execute_result",
          "data": {
            "text/plain": [
              "LGBMRegressor(max_depth=8, min_samples_leaf=1, min_samples_split=2,\n",
              "              n_estimators=65)"
            ]
          },
          "metadata": {},
          "execution_count": 46
        }
      ],
      "source": [
        "dadosSelecionadosX = treino2X\n",
        "dadosSelecionadosy = treino2y\n",
        "\n",
        "modelo_decidido = LGBMRegressor(max_depth=8, min_samples_leaf=1, min_samples_split=2, n_estimators=65, learning_rate= 0.1)\n",
        "modelo_decidido.fit(dadosSelecionadosX, dadosSelecionadosy)"
      ]
    },
    {
      "cell_type": "code",
      "execution_count": 47,
      "metadata": {
        "colab": {
          "base_uri": "https://localhost:8080/"
        },
        "id": "0Fp-8byCtNEW",
        "outputId": "8626383d-980f-4356-87f5-3ae54c861927"
      },
      "outputs": [
        {
          "output_type": "execute_result",
          "data": {
            "text/plain": [
              "1310.0867445113383"
            ]
          },
          "metadata": {},
          "execution_count": 47
        }
      ],
      "source": [
        "#Verificação nos dados de treino\n",
        "preditos = modelo_decidido.predict(dadosSelecionadosX)\n",
        "EMA = me.mean_absolute_error(dadosSelecionadosy, preditos)\n",
        "EMA"
      ]
    },
    {
      "cell_type": "code",
      "execution_count": 48,
      "metadata": {
        "colab": {
          "base_uri": "https://localhost:8080/",
          "height": 270
        },
        "id": "dpOUQRY3saZX",
        "outputId": "ef66d561-ea90-4ca1-8016-67a6fb582632"
      },
      "outputs": [
        {
          "output_type": "execute_result",
          "data": {
            "text/html": [
              "\n",
              "  <div id=\"df-047e4900-72c1-40f9-96e4-dbeeb9167cf0\">\n",
              "    <div class=\"colab-df-container\">\n",
              "      <div>\n",
              "<style scoped>\n",
              "    .dataframe tbody tr th:only-of-type {\n",
              "        vertical-align: middle;\n",
              "    }\n",
              "\n",
              "    .dataframe tbody tr th {\n",
              "        vertical-align: top;\n",
              "    }\n",
              "\n",
              "    .dataframe thead th {\n",
              "        text-align: right;\n",
              "    }\n",
              "</style>\n",
              "<table border=\"1\" class=\"dataframe\">\n",
              "  <thead>\n",
              "    <tr style=\"text-align: right;\">\n",
              "      <th></th>\n",
              "      <th>sexo</th>\n",
              "      <th>faixa_etaria</th>\n",
              "      <th>escolaridade</th>\n",
              "      <th>horas_trabalho_por_semana</th>\n",
              "      <th>portador_de_deficiencia</th>\n",
              "      <th>tamanho_da_empresa</th>\n",
              "      <th>tempo_no_emprego</th>\n",
              "      <th>cor_raca_1</th>\n",
              "      <th>cor_raca_2</th>\n",
              "      <th>cor_raca_4</th>\n",
              "      <th>cor_raca_6</th>\n",
              "      <th>cor_raca_8</th>\n",
              "      <th>cor_raca_9</th>\n",
              "    </tr>\n",
              "  </thead>\n",
              "  <tbody>\n",
              "    <tr>\n",
              "      <th>0</th>\n",
              "      <td>1</td>\n",
              "      <td>5</td>\n",
              "      <td>7</td>\n",
              "      <td>0.620498</td>\n",
              "      <td>0</td>\n",
              "      <td>1.069214</td>\n",
              "      <td>-0.788159</td>\n",
              "      <td>0</td>\n",
              "      <td>0</td>\n",
              "      <td>0</td>\n",
              "      <td>0</td>\n",
              "      <td>1</td>\n",
              "      <td>0</td>\n",
              "    </tr>\n",
              "    <tr>\n",
              "      <th>1</th>\n",
              "      <td>1</td>\n",
              "      <td>7</td>\n",
              "      <td>7</td>\n",
              "      <td>0.620498</td>\n",
              "      <td>0</td>\n",
              "      <td>-1.514034</td>\n",
              "      <td>-0.807016</td>\n",
              "      <td>0</td>\n",
              "      <td>0</td>\n",
              "      <td>0</td>\n",
              "      <td>0</td>\n",
              "      <td>1</td>\n",
              "      <td>0</td>\n",
              "    </tr>\n",
              "    <tr>\n",
              "      <th>2</th>\n",
              "      <td>0</td>\n",
              "      <td>7</td>\n",
              "      <td>7</td>\n",
              "      <td>-1.179347</td>\n",
              "      <td>0</td>\n",
              "      <td>-0.037893</td>\n",
              "      <td>1.713934</td>\n",
              "      <td>0</td>\n",
              "      <td>0</td>\n",
              "      <td>0</td>\n",
              "      <td>0</td>\n",
              "      <td>0</td>\n",
              "      <td>1</td>\n",
              "    </tr>\n",
              "    <tr>\n",
              "      <th>3</th>\n",
              "      <td>1</td>\n",
              "      <td>4</td>\n",
              "      <td>7</td>\n",
              "      <td>0.620498</td>\n",
              "      <td>0</td>\n",
              "      <td>0.331143</td>\n",
              "      <td>-0.821904</td>\n",
              "      <td>0</td>\n",
              "      <td>0</td>\n",
              "      <td>0</td>\n",
              "      <td>0</td>\n",
              "      <td>1</td>\n",
              "      <td>0</td>\n",
              "    </tr>\n",
              "    <tr>\n",
              "      <th>4</th>\n",
              "      <td>1</td>\n",
              "      <td>7</td>\n",
              "      <td>9</td>\n",
              "      <td>0.106256</td>\n",
              "      <td>0</td>\n",
              "      <td>1.069214</td>\n",
              "      <td>0.493159</td>\n",
              "      <td>0</td>\n",
              "      <td>0</td>\n",
              "      <td>0</td>\n",
              "      <td>0</td>\n",
              "      <td>0</td>\n",
              "      <td>1</td>\n",
              "    </tr>\n",
              "  </tbody>\n",
              "</table>\n",
              "</div>\n",
              "      <button class=\"colab-df-convert\" onclick=\"convertToInteractive('df-047e4900-72c1-40f9-96e4-dbeeb9167cf0')\"\n",
              "              title=\"Convert this dataframe to an interactive table.\"\n",
              "              style=\"display:none;\">\n",
              "        \n",
              "  <svg xmlns=\"http://www.w3.org/2000/svg\" height=\"24px\"viewBox=\"0 0 24 24\"\n",
              "       width=\"24px\">\n",
              "    <path d=\"M0 0h24v24H0V0z\" fill=\"none\"/>\n",
              "    <path d=\"M18.56 5.44l.94 2.06.94-2.06 2.06-.94-2.06-.94-.94-2.06-.94 2.06-2.06.94zm-11 1L8.5 8.5l.94-2.06 2.06-.94-2.06-.94L8.5 2.5l-.94 2.06-2.06.94zm10 10l.94 2.06.94-2.06 2.06-.94-2.06-.94-.94-2.06-.94 2.06-2.06.94z\"/><path d=\"M17.41 7.96l-1.37-1.37c-.4-.4-.92-.59-1.43-.59-.52 0-1.04.2-1.43.59L10.3 9.45l-7.72 7.72c-.78.78-.78 2.05 0 2.83L4 21.41c.39.39.9.59 1.41.59.51 0 1.02-.2 1.41-.59l7.78-7.78 2.81-2.81c.8-.78.8-2.07 0-2.86zM5.41 20L4 18.59l7.72-7.72 1.47 1.35L5.41 20z\"/>\n",
              "  </svg>\n",
              "      </button>\n",
              "      \n",
              "  <style>\n",
              "    .colab-df-container {\n",
              "      display:flex;\n",
              "      flex-wrap:wrap;\n",
              "      gap: 12px;\n",
              "    }\n",
              "\n",
              "    .colab-df-convert {\n",
              "      background-color: #E8F0FE;\n",
              "      border: none;\n",
              "      border-radius: 50%;\n",
              "      cursor: pointer;\n",
              "      display: none;\n",
              "      fill: #1967D2;\n",
              "      height: 32px;\n",
              "      padding: 0 0 0 0;\n",
              "      width: 32px;\n",
              "    }\n",
              "\n",
              "    .colab-df-convert:hover {\n",
              "      background-color: #E2EBFA;\n",
              "      box-shadow: 0px 1px 2px rgba(60, 64, 67, 0.3), 0px 1px 3px 1px rgba(60, 64, 67, 0.15);\n",
              "      fill: #174EA6;\n",
              "    }\n",
              "\n",
              "    [theme=dark] .colab-df-convert {\n",
              "      background-color: #3B4455;\n",
              "      fill: #D2E3FC;\n",
              "    }\n",
              "\n",
              "    [theme=dark] .colab-df-convert:hover {\n",
              "      background-color: #434B5C;\n",
              "      box-shadow: 0px 1px 3px 1px rgba(0, 0, 0, 0.15);\n",
              "      filter: drop-shadow(0px 1px 2px rgba(0, 0, 0, 0.3));\n",
              "      fill: #FFFFFF;\n",
              "    }\n",
              "  </style>\n",
              "\n",
              "      <script>\n",
              "        const buttonEl =\n",
              "          document.querySelector('#df-047e4900-72c1-40f9-96e4-dbeeb9167cf0 button.colab-df-convert');\n",
              "        buttonEl.style.display =\n",
              "          google.colab.kernel.accessAllowed ? 'block' : 'none';\n",
              "\n",
              "        async function convertToInteractive(key) {\n",
              "          const element = document.querySelector('#df-047e4900-72c1-40f9-96e4-dbeeb9167cf0');\n",
              "          const dataTable =\n",
              "            await google.colab.kernel.invokeFunction('convertToInteractive',\n",
              "                                                     [key], {});\n",
              "          if (!dataTable) return;\n",
              "\n",
              "          const docLinkHtml = 'Like what you see? Visit the ' +\n",
              "            '<a target=\"_blank\" href=https://colab.research.google.com/notebooks/data_table.ipynb>data table notebook</a>'\n",
              "            + ' to learn more about interactive tables.';\n",
              "          element.innerHTML = '';\n",
              "          dataTable['output_type'] = 'display_data';\n",
              "          await google.colab.output.renderOutput(dataTable, element);\n",
              "          const docLink = document.createElement('div');\n",
              "          docLink.innerHTML = docLinkHtml;\n",
              "          element.appendChild(docLink);\n",
              "        }\n",
              "      </script>\n",
              "    </div>\n",
              "  </div>\n",
              "  "
            ],
            "text/plain": [
              "   sexo  faixa_etaria  escolaridade  ...  cor_raca_6  cor_raca_8  cor_raca_9\n",
              "0     1             5             7  ...           0           1           0\n",
              "1     1             7             7  ...           0           1           0\n",
              "2     0             7             7  ...           0           0           1\n",
              "3     1             4             7  ...           0           1           0\n",
              "4     1             7             9  ...           0           0           1\n",
              "\n",
              "[5 rows x 13 columns]"
            ]
          },
          "metadata": {},
          "execution_count": 48
        }
      ],
      "source": [
        "dadosSelecionadosX.head()"
      ]
    },
    {
      "cell_type": "markdown",
      "metadata": {
        "id": "mUGDR0zVsnGM"
      },
      "source": [
        ""
      ]
    },
    {
      "cell_type": "code",
      "execution_count": 49,
      "metadata": {
        "id": "CNSN8g4EttB-"
      },
      "outputs": [],
      "source": [
        "pred = modelo_decidido.predict(fonte_saida)\n",
        "\n",
        "subm = pd.DataFrame()\n",
        "subm['remuneracao'] = pred\n",
        "subm.to_csv('submissaoC.csv', index = False)"
      ]
    },
    {
      "cell_type": "code",
      "execution_count": 50,
      "metadata": {
        "colab": {
          "base_uri": "https://localhost:8080/",
          "height": 17
        },
        "id": "2T0jhXBYush6",
        "outputId": "c435510f-16ff-40a0-fa9a-93d2d2e1594f"
      },
      "outputs": [
        {
          "output_type": "display_data",
          "data": {
            "application/javascript": [
              "\n",
              "    async function download(id, filename, size) {\n",
              "      if (!google.colab.kernel.accessAllowed) {\n",
              "        return;\n",
              "      }\n",
              "      const div = document.createElement('div');\n",
              "      const label = document.createElement('label');\n",
              "      label.textContent = `Downloading \"${filename}\": `;\n",
              "      div.appendChild(label);\n",
              "      const progress = document.createElement('progress');\n",
              "      progress.max = size;\n",
              "      div.appendChild(progress);\n",
              "      document.body.appendChild(div);\n",
              "\n",
              "      const buffers = [];\n",
              "      let downloaded = 0;\n",
              "\n",
              "      const channel = await google.colab.kernel.comms.open(id);\n",
              "      // Send a message to notify the kernel that we're ready.\n",
              "      channel.send({})\n",
              "\n",
              "      for await (const message of channel.messages) {\n",
              "        // Send a message to notify the kernel that we're ready.\n",
              "        channel.send({})\n",
              "        if (message.buffers) {\n",
              "          for (const buffer of message.buffers) {\n",
              "            buffers.push(buffer);\n",
              "            downloaded += buffer.byteLength;\n",
              "            progress.value = downloaded;\n",
              "          }\n",
              "        }\n",
              "      }\n",
              "      const blob = new Blob(buffers, {type: 'application/binary'});\n",
              "      const a = document.createElement('a');\n",
              "      a.href = window.URL.createObjectURL(blob);\n",
              "      a.download = filename;\n",
              "      div.appendChild(a);\n",
              "      a.click();\n",
              "      div.remove();\n",
              "    }\n",
              "  "
            ],
            "text/plain": [
              "<IPython.core.display.Javascript object>"
            ]
          },
          "metadata": {}
        },
        {
          "output_type": "display_data",
          "data": {
            "application/javascript": [
              "download(\"download_5693c38a-a7b0-447c-932c-0e67022dbcfe\", \"submissaoC.csv\", 277571)"
            ],
            "text/plain": [
              "<IPython.core.display.Javascript object>"
            ]
          },
          "metadata": {}
        }
      ],
      "source": [
        "from google.colab import files\n",
        "files.download(\"submissaoC.csv\")"
      ]
    }
  ],
  "metadata": {
    "colab": {
      "collapsed_sections": [],
      "name": "7a_Flai_202201_C.ipynb",
      "provenance": [],
      "toc_visible": true,
      "authorship_tag": "ABX9TyMNTfQ3U/Cod5S1C5TK8+r9",
      "include_colab_link": true
    },
    "kernelspec": {
      "display_name": "Python 3",
      "name": "python3"
    },
    "language_info": {
      "name": "python"
    }
  },
  "nbformat": 4,
  "nbformat_minor": 0
}
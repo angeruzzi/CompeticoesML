{
  "nbformat": 4,
  "nbformat_minor": 0,
  "metadata": {
    "colab": {
      "name": "submissao5.ipynb",
      "provenance": [],
      "authorship_tag": "ABX9TyNcTxl1N2BMwFEzJPuBecs9",
      "include_colab_link": true
    },
    "kernelspec": {
      "name": "python3",
      "display_name": "Python 3"
    },
    "language_info": {
      "name": "python"
    }
  },
  "cells": [
    {
      "cell_type": "markdown",
      "metadata": {
        "id": "view-in-github",
        "colab_type": "text"
      },
      "source": [
        "<a href=\"https://colab.research.google.com/github/angeruzzi/CompeticoesML/blob/main/4a_Flai_202106/submissao5.ipynb\" target=\"_parent\"><img src=\"https://colab.research.google.com/assets/colab-badge.svg\" alt=\"Open In Colab\"/></a>"
      ]
    },
    {
      "cell_type": "markdown",
      "metadata": {
        "id": "q3pskevbbvnX"
      },
      "source": [
        "#Bibliotecas"
      ]
    },
    {
      "cell_type": "code",
      "metadata": {
        "id": "--2PqpPPbvJz"
      },
      "source": [
        "#Bibliotecas Base\n",
        "import pandas as pd\n",
        "import numpy as np\n",
        "\n",
        "#Modelos\n",
        "from sklearn.ensemble import GradientBoostingClassifier\n",
        "\n",
        "#Tunagem\n",
        "from sklearn.model_selection import GridSearchCV\n",
        "\n",
        "#Validação\n",
        "from sklearn.model_selection import cross_validate\n",
        "from sklearn.model_selection import RepeatedStratifiedKFold\n",
        "from sklearn.metrics import f1_score"
      ],
      "execution_count": 26,
      "outputs": []
    },
    {
      "cell_type": "markdown",
      "metadata": {
        "id": "GwU8yJIqb-YG"
      },
      "source": [
        "#Dados"
      ]
    },
    {
      "cell_type": "code",
      "metadata": {
        "id": "oPWMyQUCb9xS"
      },
      "source": [
        "#Base de Dados\n",
        "fonte_treino = 'https://raw.githubusercontent.com/angeruzzi/Datasource/main/DesafioDDS202106_treino.csv'\n",
        "\n",
        "treino = pd.read_csv(fonte_treino)\n",
        "treino['Cliente']  = treino['Cliente'].map({'Premium':1, 'Normal':0})\n",
        "\n",
        "treinoX = treino.drop(['Cliente'], axis = 1) \n",
        "treinoy = treino['Cliente']"
      ],
      "execution_count": 7,
      "outputs": []
    },
    {
      "cell_type": "markdown",
      "metadata": {
        "id": "JV6l5rxvcDQH"
      },
      "source": [
        "#TRANSFORMAÇÃO"
      ]
    },
    {
      "cell_type": "code",
      "metadata": {
        "id": "CiS570OQcC3W"
      },
      "source": [
        "def Transf(dados):\n",
        "  dados.drop(['gender'], axis = 1, inplace = True)\n",
        "  dados.drop(['Dependents'], axis = 1, inplace = True)\n",
        "  dados.drop(['SeniorCitizen'], axis = 1, inplace = True)\n",
        "  dados.drop(['PaperlessBilling'], axis = 1, inplace = True)  \n",
        "\n",
        "  dados['Partner']          = dados['Partner'].map({'Yes':1, 'No':0})\n",
        "  dados['PhoneService']     = dados['PhoneService'].map({'Yes':1, 'No':0})\n",
        "\n",
        "  dados['MultipleLines']    = dados['MultipleLines'].map({'Yes':1, 'No':0, 'No phone service':0})\n",
        "  \n",
        "  dados['OnlineSecurity']   = dados['OnlineSecurity'].map({'Yes':1, 'No':0, 'No internet service':0})\n",
        "  dados['OnlineBackup']     = dados['OnlineBackup'].map({'Yes':1, 'No':0, 'No internet service':0})\n",
        "  dados['DeviceProtection'] = dados['DeviceProtection'].map({'Yes':1, 'No':0, 'No internet service':0})\n",
        "  dados['TechSupport']      = dados['TechSupport'].map({'Yes':1, 'No':0, 'No internet service':0})\n",
        "  dados['StreamingTV']      = dados['StreamingTV'].map({'Yes':1, 'No':0, 'No internet service':0})\n",
        "  dados['StreamingMovies']  = dados['StreamingMovies'].map({'Yes':1, 'No':0, 'No internet service':0})\n",
        "\n",
        "  dados['tenure']           = dados['tenure']/100\n",
        "      \n",
        "  variaveis_toDummie        = ['Contract', 'InternetService', 'PaymentMethod']\n",
        "\n",
        "  dados = pd.get_dummies(dados, columns = variaveis_toDummie, drop_first = True)\n",
        "  return dados "
      ],
      "execution_count": 8,
      "outputs": []
    },
    {
      "cell_type": "code",
      "metadata": {
        "id": "sQl0RtfmcILr"
      },
      "source": [
        "treinoX = Transf(treinoX)"
      ],
      "execution_count": 9,
      "outputs": []
    },
    {
      "cell_type": "markdown",
      "metadata": {
        "id": "kJWRg6SZd_VU"
      },
      "source": [
        "#Hipertunagem"
      ]
    },
    {
      "cell_type": "code",
      "metadata": {
        "id": "NlGF0b7sd-lo"
      },
      "source": [
        "def Tunagem(modelo, treino, targets, parametros, validacao, score):    \n",
        "    search = GridSearchCV(modelo, param_grid = parametros,\n",
        "                                  scoring = score, cv = validacao, \n",
        "                                  verbose = 1, n_jobs = -1)\n",
        "    search.fit(treino, targets) \n",
        "    bestModel = search.best_estimator_\n",
        "    bestScore = search.best_score_\n",
        "    bestParam = search.best_params_\n",
        "\n",
        "    return {\n",
        "            'bestModel': bestModel,\n",
        "            'bestScore': bestScore,\n",
        "            'bestParam': bestParam\n",
        "    }"
      ],
      "execution_count": 22,
      "outputs": []
    },
    {
      "cell_type": "code",
      "metadata": {
        "id": "mfhKobgCeIM3"
      },
      "source": [
        "validacao = RepeatedStratifiedKFold(n_splits = 10, n_repeats = 20)\n",
        "#validacao = RepeatedStratifiedKFold(n_splits = 10, n_repeats = 1)\n",
        "\n",
        "testeTunModels = [GradientBoostingClassifier()]\n",
        "testeTunParams = [\n",
        "                  {\n",
        "                   'min_samples_split': [2, 5, 10],\n",
        "                   'min_samples_leaf': [1, 3, 5],\n",
        "                   'max_depth' : [2, 4, 6],\n",
        "                   'n_estimators': [50, 100, 150],\n",
        "                   'learning_rate': np.arange(0.1, 1.1, 0.1)\n",
        "                  }\n",
        "]"
      ],
      "execution_count": 28,
      "outputs": []
    },
    {
      "cell_type": "code",
      "metadata": {
        "id": "Jb3mt-k1gCKw"
      },
      "source": [
        "for i in range(len(testeTunModels)):\n",
        "  ret = Tunagem(testeTunModels[i], treinoX, treinoy, testeTunParams[i], validacao, 'f1')\n",
        "  print(ret)"
      ],
      "execution_count": null,
      "outputs": []
    },
    {
      "cell_type": "markdown",
      "metadata": {
        "id": "AA3lHJZscaqm"
      },
      "source": [
        "#Validação de Modelos"
      ]
    },
    {
      "cell_type": "code",
      "metadata": {
        "id": "uyegivA5db_R"
      },
      "source": [
        "def CompareML(X, y, lista_de_modelos, nome_dos_modelos, validacao):\n",
        "  lista_de_medidas = ['accuracy', 'recall', 'precision', 'balanced_accuracy', 'f1']\n",
        "  nome_das_medidas = ['acurácia', 'sensibilidade', 'precisão', 'eficiência', 'f1-score']\n",
        "  resultados0 = {}\n",
        "  \n",
        "  for i in range(len(lista_de_modelos)):\n",
        "      print('Rodando modelo: ' + nome_dos_modelos[i])\n",
        "      accs_vc = cross_validate(lista_de_modelos[i], X, y, cv = validacao, scoring = lista_de_medidas)\n",
        "\n",
        "      acc = accs_vc['test_accuracy'].mean()\n",
        "      sen = accs_vc['test_recall'].mean()\n",
        "      vpp = accs_vc['test_precision'].mean()\n",
        "      bac = accs_vc['test_balanced_accuracy'].mean()\n",
        "      f1s = accs_vc['test_f1'].mean()\n",
        "\n",
        "      resultados0[nome_dos_modelos[i]] = [acc, sen, vpp, f1s, bac]\n",
        "      \n",
        "  resultados = pd.DataFrame(resultados0, index = nome_das_medidas).T\n",
        "  return resultados"
      ],
      "execution_count": 12,
      "outputs": []
    },
    {
      "cell_type": "code",
      "metadata": {
        "id": "-fSBWqXhcKyz"
      },
      "source": [
        "validacao = RepeatedStratifiedKFold(n_splits = 10, n_repeats = 20)\n",
        "\n",
        "#Comparação de modelos GBC\n",
        "mod_gbc     = GradientBoostingClassifier()\n",
        "mod_gbc50A  = GradientBoostingClassifier(learning_rate=0.2, max_depth=2, n_estimators=50)\n",
        "mod_gbc50B  = GradientBoostingClassifier(learning_rate=0.4, max_depth=2, n_estimators=50)\n",
        "mod_gbc100A = GradientBoostingClassifier(learning_rate=0.2, max_depth=2, n_estimators=100, min_samples_leaf=1, min_samples_split=2)\n",
        "mod_gbc100B = GradientBoostingClassifier(learning_rate=0.4, max_depth=2, n_estimators=100)\n",
        "mod_gbc200  = GradientBoostingClassifier(learning_rate=0.2, max_depth=2, n_estimators=200, min_samples_leaf=1, min_samples_split=2)"
      ],
      "execution_count": 13,
      "outputs": []
    },
    {
      "cell_type": "code",
      "metadata": {
        "id": "F1clLqiQcnB3"
      },
      "source": [
        "lista_de_modelos = [\n",
        "                      mod_gbc     ,                    \n",
        "                      mod_gbc50A  ,                    \n",
        "                      mod_gbc50B  ,\n",
        "                      mod_gbc100A ,\n",
        "                      mod_gbc100B ,\n",
        "                      mod_gbc200  \n",
        "                    ]\n",
        "\n",
        "nome_dos_modelos = [\n",
        "                        'GBC',\n",
        "                        'GBC-50-A' ,\n",
        "                        'GBC-50-B' ,                    \n",
        "                        'GBC-100-A',\n",
        "                        'GBC-100-B',\n",
        "                        'GBC-200'  \n",
        "                    ]"
      ],
      "execution_count": 14,
      "outputs": []
    },
    {
      "cell_type": "code",
      "metadata": {
        "colab": {
          "base_uri": "https://localhost:8080/",
          "height": 339
        },
        "id": "hj10fOz1dh3D",
        "outputId": "930ba6d0-b97f-45c6-d37b-dc0fb4d51b11"
      },
      "source": [
        "resultados = CompareML(treinoX, treinoy, lista_de_modelos, nome_dos_modelos, validacao)\n",
        "resultados.sort_values(by = 'f1-score', ascending = False)"
      ],
      "execution_count": 15,
      "outputs": [
        {
          "output_type": "stream",
          "text": [
            "Rodando modelo: GBC\n",
            "Rodando modelo: GBC-50-A\n",
            "Rodando modelo: GBC-50-B\n",
            "Rodando modelo: GBC-100-A\n",
            "Rodando modelo: GBC-100-B\n",
            "Rodando modelo: GBC-200\n"
          ],
          "name": "stdout"
        },
        {
          "output_type": "execute_result",
          "data": {
            "text/html": [
              "<div>\n",
              "<style scoped>\n",
              "    .dataframe tbody tr th:only-of-type {\n",
              "        vertical-align: middle;\n",
              "    }\n",
              "\n",
              "    .dataframe tbody tr th {\n",
              "        vertical-align: top;\n",
              "    }\n",
              "\n",
              "    .dataframe thead th {\n",
              "        text-align: right;\n",
              "    }\n",
              "</style>\n",
              "<table border=\"1\" class=\"dataframe\">\n",
              "  <thead>\n",
              "    <tr style=\"text-align: right;\">\n",
              "      <th></th>\n",
              "      <th>acurácia</th>\n",
              "      <th>sensibilidade</th>\n",
              "      <th>precisão</th>\n",
              "      <th>eficiência</th>\n",
              "      <th>f1-score</th>\n",
              "    </tr>\n",
              "  </thead>\n",
              "  <tbody>\n",
              "    <tr>\n",
              "      <th>GBC-100-A</th>\n",
              "      <td>0.98704</td>\n",
              "      <td>0.985941</td>\n",
              "      <td>0.986642</td>\n",
              "      <td>0.986229</td>\n",
              "      <td>0.986983</td>\n",
              "    </tr>\n",
              "    <tr>\n",
              "      <th>GBC-50-B</th>\n",
              "      <td>0.98662</td>\n",
              "      <td>0.985642</td>\n",
              "      <td>0.986039</td>\n",
              "      <td>0.985786</td>\n",
              "      <td>0.986564</td>\n",
              "    </tr>\n",
              "    <tr>\n",
              "      <th>GBC-100-B</th>\n",
              "      <td>0.98656</td>\n",
              "      <td>0.985094</td>\n",
              "      <td>0.986456</td>\n",
              "      <td>0.985711</td>\n",
              "      <td>0.986481</td>\n",
              "    </tr>\n",
              "    <tr>\n",
              "      <th>GBC-200</th>\n",
              "      <td>0.98600</td>\n",
              "      <td>0.984111</td>\n",
              "      <td>0.986244</td>\n",
              "      <td>0.985111</td>\n",
              "      <td>0.985895</td>\n",
              "    </tr>\n",
              "    <tr>\n",
              "      <th>GBC</th>\n",
              "      <td>0.98484</td>\n",
              "      <td>0.984326</td>\n",
              "      <td>0.983657</td>\n",
              "      <td>0.983911</td>\n",
              "      <td>0.984811</td>\n",
              "    </tr>\n",
              "    <tr>\n",
              "      <th>GBC-50-A</th>\n",
              "      <td>0.98408</td>\n",
              "      <td>0.984366</td>\n",
              "      <td>0.982022</td>\n",
              "      <td>0.983116</td>\n",
              "      <td>0.984097</td>\n",
              "    </tr>\n",
              "  </tbody>\n",
              "</table>\n",
              "</div>"
            ],
            "text/plain": [
              "           acurácia  sensibilidade  precisão  eficiência  f1-score\n",
              "GBC-100-A   0.98704       0.985941  0.986642    0.986229  0.986983\n",
              "GBC-50-B    0.98662       0.985642  0.986039    0.985786  0.986564\n",
              "GBC-100-B   0.98656       0.985094  0.986456    0.985711  0.986481\n",
              "GBC-200     0.98600       0.984111  0.986244    0.985111  0.985895\n",
              "GBC         0.98484       0.984326  0.983657    0.983911  0.984811\n",
              "GBC-50-A    0.98408       0.984366  0.982022    0.983116  0.984097"
            ]
          },
          "metadata": {
            "tags": []
          },
          "execution_count": 15
        }
      ]
    },
    {
      "cell_type": "code",
      "metadata": {
        "id": "W5sEyVBIfews"
      },
      "source": [
        "dadosSelecionados = treinoX"
      ],
      "execution_count": 17,
      "outputs": []
    },
    {
      "cell_type": "code",
      "metadata": {
        "colab": {
          "base_uri": "https://localhost:8080/"
        },
        "id": "dZESwvawdm2E",
        "outputId": "daea8469-6d59-4918-8fd9-bb21f47605a3"
      },
      "source": [
        "modelo_decidido = mod_gbc100A\n",
        "modelo_decidido.fit(dadosSelecionados,treinoy)"
      ],
      "execution_count": 18,
      "outputs": [
        {
          "output_type": "execute_result",
          "data": {
            "text/plain": [
              "GradientBoostingClassifier(ccp_alpha=0.0, criterion='friedman_mse', init=None,\n",
              "                           learning_rate=0.2, loss='deviance', max_depth=2,\n",
              "                           max_features=None, max_leaf_nodes=None,\n",
              "                           min_impurity_decrease=0.0, min_impurity_split=None,\n",
              "                           min_samples_leaf=1, min_samples_split=2,\n",
              "                           min_weight_fraction_leaf=0.0, n_estimators=100,\n",
              "                           n_iter_no_change=None, presort='deprecated',\n",
              "                           random_state=None, subsample=1.0, tol=0.0001,\n",
              "                           validation_fraction=0.1, verbose=0,\n",
              "                           warm_start=False)"
            ]
          },
          "metadata": {
            "tags": []
          },
          "execution_count": 18
        }
      ]
    },
    {
      "cell_type": "code",
      "metadata": {
        "colab": {
          "base_uri": "https://localhost:8080/"
        },
        "id": "LcoGoWotdsx1",
        "outputId": "cceb89b4-c7ee-438e-9f74-40f27441fece"
      },
      "source": [
        "#preditos Treino\n",
        "preditos = modelo_decidido.predict(dadosSelecionados)\n",
        "f1 = f1_score(treinoy, preditos)\n",
        "f1"
      ],
      "execution_count": 21,
      "outputs": [
        {
          "output_type": "execute_result",
          "data": {
            "text/plain": [
              "0.9949066213921902"
            ]
          },
          "metadata": {
            "tags": []
          },
          "execution_count": 21
        }
      ]
    },
    {
      "cell_type": "markdown",
      "metadata": {
        "id": "BlUdjigkdvQ3"
      },
      "source": [
        "#ARQUIVO SUBMISSÃO"
      ]
    },
    {
      "cell_type": "code",
      "metadata": {
        "id": "HpKY6JxxdwMX"
      },
      "source": [
        "fonte_saida  = 'https://raw.githubusercontent.com/angeruzzi/Datasource/main/DesafioDDS202106_teste.csv'\n",
        "saida  = pd.read_csv(fonte_saida)\n",
        "\n",
        "saida = Transf(saida)\n",
        "\n",
        "pred = modelo_decidido.predict(saida)\n",
        "\n",
        "subm = pd.DataFrame()\n",
        "subm['Cliente'] = pred\n",
        "subm.to_csv('submissao5.csv', index = False)"
      ],
      "execution_count": null,
      "outputs": []
    },
    {
      "cell_type": "code",
      "metadata": {
        "id": "A48o9jInd1hh"
      },
      "source": [
        "from google.colab import files\n",
        "files.download(\"submissao5.csv\")"
      ],
      "execution_count": null,
      "outputs": []
    }
  ]
}